{
  "nbformat": 4,
  "nbformat_minor": 0,
  "metadata": {
    "colab": {
      "name": "ResNet.ipynb",
      "provenance": [],
      "collapsed_sections": [],
      "authorship_tag": "ABX9TyNPYtnaeFgbL74wBQaFOE+J",
      "include_colab_link": true
    },
    "kernelspec": {
      "name": "python3",
      "display_name": "Python 3"
    },
    "language_info": {
      "name": "python"
    },
    "widgets": {
      "application/vnd.jupyter.widget-state+json": {
        "9e99d6a807cc490bb6b98f4080e2e7a8": {
          "model_module": "@jupyter-widgets/controls",
          "model_name": "HBoxModel",
          "model_module_version": "1.5.0",
          "state": {
            "_dom_classes": [],
            "_model_module": "@jupyter-widgets/controls",
            "_model_module_version": "1.5.0",
            "_model_name": "HBoxModel",
            "_view_count": null,
            "_view_module": "@jupyter-widgets/controls",
            "_view_module_version": "1.5.0",
            "_view_name": "HBoxView",
            "box_style": "",
            "children": [
              "IPY_MODEL_42ec5e34517f4d99900b300756b13826",
              "IPY_MODEL_cfb60363200d4c02a92e67e7f034858f",
              "IPY_MODEL_01734fba8a984a51bb507696cd48028d"
            ],
            "layout": "IPY_MODEL_8b300844af0f45a6b5c4d1b18da222f8"
          }
        },
        "42ec5e34517f4d99900b300756b13826": {
          "model_module": "@jupyter-widgets/controls",
          "model_name": "HTMLModel",
          "model_module_version": "1.5.0",
          "state": {
            "_dom_classes": [],
            "_model_module": "@jupyter-widgets/controls",
            "_model_module_version": "1.5.0",
            "_model_name": "HTMLModel",
            "_view_count": null,
            "_view_module": "@jupyter-widgets/controls",
            "_view_module_version": "1.5.0",
            "_view_name": "HTMLView",
            "description": "",
            "description_tooltip": null,
            "layout": "IPY_MODEL_21ae528c62444ab889005d216089cc71",
            "placeholder": "​",
            "style": "IPY_MODEL_1fdece377411430fb1804ca28825a474",
            "value": ""
          }
        },
        "cfb60363200d4c02a92e67e7f034858f": {
          "model_module": "@jupyter-widgets/controls",
          "model_name": "FloatProgressModel",
          "model_module_version": "1.5.0",
          "state": {
            "_dom_classes": [],
            "_model_module": "@jupyter-widgets/controls",
            "_model_module_version": "1.5.0",
            "_model_name": "FloatProgressModel",
            "_view_count": null,
            "_view_module": "@jupyter-widgets/controls",
            "_view_module_version": "1.5.0",
            "_view_name": "ProgressView",
            "bar_style": "success",
            "description": "",
            "description_tooltip": null,
            "layout": "IPY_MODEL_f52271a0fd594dadac5715b2dd5803dc",
            "max": 170498071,
            "min": 0,
            "orientation": "horizontal",
            "style": "IPY_MODEL_e0c853cefa49484da135220394db55bb",
            "value": 170498071
          }
        },
        "01734fba8a984a51bb507696cd48028d": {
          "model_module": "@jupyter-widgets/controls",
          "model_name": "HTMLModel",
          "model_module_version": "1.5.0",
          "state": {
            "_dom_classes": [],
            "_model_module": "@jupyter-widgets/controls",
            "_model_module_version": "1.5.0",
            "_model_name": "HTMLModel",
            "_view_count": null,
            "_view_module": "@jupyter-widgets/controls",
            "_view_module_version": "1.5.0",
            "_view_name": "HTMLView",
            "description": "",
            "description_tooltip": null,
            "layout": "IPY_MODEL_b10df0df666045bbb9a6da2de637a12f",
            "placeholder": "​",
            "style": "IPY_MODEL_fbf26e9ed2454598abff0286888d14ff",
            "value": " 170499072/? [00:11&lt;00:00, 15998210.96it/s]"
          }
        },
        "8b300844af0f45a6b5c4d1b18da222f8": {
          "model_module": "@jupyter-widgets/base",
          "model_name": "LayoutModel",
          "model_module_version": "1.2.0",
          "state": {
            "_model_module": "@jupyter-widgets/base",
            "_model_module_version": "1.2.0",
            "_model_name": "LayoutModel",
            "_view_count": null,
            "_view_module": "@jupyter-widgets/base",
            "_view_module_version": "1.2.0",
            "_view_name": "LayoutView",
            "align_content": null,
            "align_items": null,
            "align_self": null,
            "border": null,
            "bottom": null,
            "display": null,
            "flex": null,
            "flex_flow": null,
            "grid_area": null,
            "grid_auto_columns": null,
            "grid_auto_flow": null,
            "grid_auto_rows": null,
            "grid_column": null,
            "grid_gap": null,
            "grid_row": null,
            "grid_template_areas": null,
            "grid_template_columns": null,
            "grid_template_rows": null,
            "height": null,
            "justify_content": null,
            "justify_items": null,
            "left": null,
            "margin": null,
            "max_height": null,
            "max_width": null,
            "min_height": null,
            "min_width": null,
            "object_fit": null,
            "object_position": null,
            "order": null,
            "overflow": null,
            "overflow_x": null,
            "overflow_y": null,
            "padding": null,
            "right": null,
            "top": null,
            "visibility": null,
            "width": null
          }
        },
        "21ae528c62444ab889005d216089cc71": {
          "model_module": "@jupyter-widgets/base",
          "model_name": "LayoutModel",
          "model_module_version": "1.2.0",
          "state": {
            "_model_module": "@jupyter-widgets/base",
            "_model_module_version": "1.2.0",
            "_model_name": "LayoutModel",
            "_view_count": null,
            "_view_module": "@jupyter-widgets/base",
            "_view_module_version": "1.2.0",
            "_view_name": "LayoutView",
            "align_content": null,
            "align_items": null,
            "align_self": null,
            "border": null,
            "bottom": null,
            "display": null,
            "flex": null,
            "flex_flow": null,
            "grid_area": null,
            "grid_auto_columns": null,
            "grid_auto_flow": null,
            "grid_auto_rows": null,
            "grid_column": null,
            "grid_gap": null,
            "grid_row": null,
            "grid_template_areas": null,
            "grid_template_columns": null,
            "grid_template_rows": null,
            "height": null,
            "justify_content": null,
            "justify_items": null,
            "left": null,
            "margin": null,
            "max_height": null,
            "max_width": null,
            "min_height": null,
            "min_width": null,
            "object_fit": null,
            "object_position": null,
            "order": null,
            "overflow": null,
            "overflow_x": null,
            "overflow_y": null,
            "padding": null,
            "right": null,
            "top": null,
            "visibility": null,
            "width": null
          }
        },
        "1fdece377411430fb1804ca28825a474": {
          "model_module": "@jupyter-widgets/controls",
          "model_name": "DescriptionStyleModel",
          "model_module_version": "1.5.0",
          "state": {
            "_model_module": "@jupyter-widgets/controls",
            "_model_module_version": "1.5.0",
            "_model_name": "DescriptionStyleModel",
            "_view_count": null,
            "_view_module": "@jupyter-widgets/base",
            "_view_module_version": "1.2.0",
            "_view_name": "StyleView",
            "description_width": ""
          }
        },
        "f52271a0fd594dadac5715b2dd5803dc": {
          "model_module": "@jupyter-widgets/base",
          "model_name": "LayoutModel",
          "model_module_version": "1.2.0",
          "state": {
            "_model_module": "@jupyter-widgets/base",
            "_model_module_version": "1.2.0",
            "_model_name": "LayoutModel",
            "_view_count": null,
            "_view_module": "@jupyter-widgets/base",
            "_view_module_version": "1.2.0",
            "_view_name": "LayoutView",
            "align_content": null,
            "align_items": null,
            "align_self": null,
            "border": null,
            "bottom": null,
            "display": null,
            "flex": null,
            "flex_flow": null,
            "grid_area": null,
            "grid_auto_columns": null,
            "grid_auto_flow": null,
            "grid_auto_rows": null,
            "grid_column": null,
            "grid_gap": null,
            "grid_row": null,
            "grid_template_areas": null,
            "grid_template_columns": null,
            "grid_template_rows": null,
            "height": null,
            "justify_content": null,
            "justify_items": null,
            "left": null,
            "margin": null,
            "max_height": null,
            "max_width": null,
            "min_height": null,
            "min_width": null,
            "object_fit": null,
            "object_position": null,
            "order": null,
            "overflow": null,
            "overflow_x": null,
            "overflow_y": null,
            "padding": null,
            "right": null,
            "top": null,
            "visibility": null,
            "width": null
          }
        },
        "e0c853cefa49484da135220394db55bb": {
          "model_module": "@jupyter-widgets/controls",
          "model_name": "ProgressStyleModel",
          "model_module_version": "1.5.0",
          "state": {
            "_model_module": "@jupyter-widgets/controls",
            "_model_module_version": "1.5.0",
            "_model_name": "ProgressStyleModel",
            "_view_count": null,
            "_view_module": "@jupyter-widgets/base",
            "_view_module_version": "1.2.0",
            "_view_name": "StyleView",
            "bar_color": null,
            "description_width": ""
          }
        },
        "b10df0df666045bbb9a6da2de637a12f": {
          "model_module": "@jupyter-widgets/base",
          "model_name": "LayoutModel",
          "model_module_version": "1.2.0",
          "state": {
            "_model_module": "@jupyter-widgets/base",
            "_model_module_version": "1.2.0",
            "_model_name": "LayoutModel",
            "_view_count": null,
            "_view_module": "@jupyter-widgets/base",
            "_view_module_version": "1.2.0",
            "_view_name": "LayoutView",
            "align_content": null,
            "align_items": null,
            "align_self": null,
            "border": null,
            "bottom": null,
            "display": null,
            "flex": null,
            "flex_flow": null,
            "grid_area": null,
            "grid_auto_columns": null,
            "grid_auto_flow": null,
            "grid_auto_rows": null,
            "grid_column": null,
            "grid_gap": null,
            "grid_row": null,
            "grid_template_areas": null,
            "grid_template_columns": null,
            "grid_template_rows": null,
            "height": null,
            "justify_content": null,
            "justify_items": null,
            "left": null,
            "margin": null,
            "max_height": null,
            "max_width": null,
            "min_height": null,
            "min_width": null,
            "object_fit": null,
            "object_position": null,
            "order": null,
            "overflow": null,
            "overflow_x": null,
            "overflow_y": null,
            "padding": null,
            "right": null,
            "top": null,
            "visibility": null,
            "width": null
          }
        },
        "fbf26e9ed2454598abff0286888d14ff": {
          "model_module": "@jupyter-widgets/controls",
          "model_name": "DescriptionStyleModel",
          "model_module_version": "1.5.0",
          "state": {
            "_model_module": "@jupyter-widgets/controls",
            "_model_module_version": "1.5.0",
            "_model_name": "DescriptionStyleModel",
            "_view_count": null,
            "_view_module": "@jupyter-widgets/base",
            "_view_module_version": "1.2.0",
            "_view_name": "StyleView",
            "description_width": ""
          }
        }
      }
    }
  },
  "cells": [
    {
      "cell_type": "markdown",
      "metadata": {
        "id": "view-in-github",
        "colab_type": "text"
      },
      "source": [
        "<a href=\"https://colab.research.google.com/github/NoviantoAryansyah/ML_HOMEWORK/blob/main/FinalExam(UAS)/ResNet.ipynb\" target=\"_parent\"><img src=\"https://colab.research.google.com/assets/colab-badge.svg\" alt=\"Open In Colab\"/></a>"
      ]
    },
    {
      "cell_type": "markdown",
      "source": [
        "**CIFAR-10: MLP, CNN, ResNet9 Classifier**"
      ],
      "metadata": {
        "id": "Fwr_thZR92Tc"
      }
    },
    {
      "cell_type": "markdown",
      "source": [
        "Import libraries"
      ],
      "metadata": {
        "id": "ThC250Yx95nw"
      }
    },
    {
      "cell_type": "code",
      "execution_count": 3,
      "metadata": {
        "id": "RoyLiOn19z8T"
      },
      "outputs": [],
      "source": [
        "import time\n",
        "\n",
        "import pandas as pd\n",
        "import platform\n",
        "import io\n",
        "\n",
        "import matplotlib.pyplot as plt\n",
        "from matplotlib.pyplot import cm \n",
        "\n",
        "import torch\n",
        "import torch.nn as nn\n",
        "import torch.optim as optim\n",
        "\n",
        "import torch.nn as nn\n",
        "import torch.nn.functional as F\n",
        "\n",
        "from torchvision.datasets import CIFAR10\n",
        "import torchvision.transforms as transforms\n",
        "import torchvision\n",
        "\n",
        "import matplotlib.pyplot as plt\n",
        "import numpy as np"
      ]
    },
    {
      "cell_type": "code",
      "source": [
        "# Constants\n",
        "IMAGE_WIDTH = 32\n",
        "IMAGE_HEIGHT = 32\n",
        "COLOR_CHANNELS = 3\n",
        "N_CLASSES = 10"
      ],
      "metadata": {
        "id": "JiwSiGmY9_XG"
      },
      "execution_count": 4,
      "outputs": []
    },
    {
      "cell_type": "code",
      "source": [
        "# check if cuda is available\n",
        "cuda = torch.cuda.is_available()\n",
        "print(cuda)"
      ],
      "metadata": {
        "colab": {
          "base_uri": "https://localhost:8080/"
        },
        "id": "V6FmHI3P-BFY",
        "outputId": "95694721-53b2-4efc-e1d5-84b8b0dde9fa"
      },
      "execution_count": 5,
      "outputs": [
        {
          "output_type": "stream",
          "name": "stdout",
          "text": [
            "False\n"
          ]
        }
      ]
    },
    {
      "cell_type": "markdown",
      "source": [
        "**Load raw CIFAR-10 Dataset and Labels**"
      ],
      "metadata": {
        "id": "zPP80wE2-HNc"
      }
    },
    {
      "cell_type": "code",
      "source": [
        "transform = transforms.Compose(\n",
        "    [transforms.ToTensor(),\n",
        "     transforms.Normalize((0.5, 0.5, 0.5), (0.5, 0.5, 0.5))])"
      ],
      "metadata": {
        "id": "b8Imdine-K-V"
      },
      "execution_count": 6,
      "outputs": []
    },
    {
      "cell_type": "code",
      "source": [
        "train_dataset = CIFAR10(root='.',\n",
        "                        train=True,\n",
        "                        transform=transform,\n",
        "                        download=True)\n",
        "\n",
        "test_dataset  = CIFAR10(root='.',\n",
        "                        train=False,\n",
        "                        transform=transform,)"
      ],
      "metadata": {
        "colab": {
          "base_uri": "https://localhost:8080/",
          "height": 84,
          "referenced_widgets": [
            "9e99d6a807cc490bb6b98f4080e2e7a8",
            "42ec5e34517f4d99900b300756b13826",
            "cfb60363200d4c02a92e67e7f034858f",
            "01734fba8a984a51bb507696cd48028d",
            "8b300844af0f45a6b5c4d1b18da222f8",
            "21ae528c62444ab889005d216089cc71",
            "1fdece377411430fb1804ca28825a474",
            "f52271a0fd594dadac5715b2dd5803dc",
            "e0c853cefa49484da135220394db55bb",
            "b10df0df666045bbb9a6da2de637a12f",
            "fbf26e9ed2454598abff0286888d14ff"
          ]
        },
        "id": "iDkypQD--XgA",
        "outputId": "e248811d-609a-43fa-e8da-b56570d6b000"
      },
      "execution_count": 7,
      "outputs": [
        {
          "output_type": "stream",
          "name": "stdout",
          "text": [
            "Downloading https://www.cs.toronto.edu/~kriz/cifar-10-python.tar.gz to ./cifar-10-python.tar.gz\n"
          ]
        },
        {
          "output_type": "display_data",
          "data": {
            "text/plain": [
              "  0%|          | 0/170498071 [00:00<?, ?it/s]"
            ],
            "application/vnd.jupyter.widget-view+json": {
              "version_major": 2,
              "version_minor": 0,
              "model_id": "9e99d6a807cc490bb6b98f4080e2e7a8"
            }
          },
          "metadata": {}
        },
        {
          "output_type": "stream",
          "name": "stdout",
          "text": [
            "Extracting ./cifar-10-python.tar.gz to .\n"
          ]
        }
      ]
    },
    {
      "cell_type": "code",
      "source": [
        "# check the meta data and batch labels\n",
        "data_batch_1 = pd.read_pickle(r'./cifar-10-batches-py/data_batch_1')\n",
        "meta_data    = pd.read_pickle(r'./cifar-10-batches-py/batches.meta')"
      ],
      "metadata": {
        "id": "9fVvP41W-bGs"
      },
      "execution_count": 8,
      "outputs": []
    },
    {
      "cell_type": "code",
      "source": [
        "print(data_batch_1.keys())\n",
        "print(meta_data.keys())"
      ],
      "metadata": {
        "colab": {
          "base_uri": "https://localhost:8080/"
        },
        "id": "nfEucau5-cqM",
        "outputId": "7a218f51-8b4a-4b1e-b039-ecc906ea9e35"
      },
      "execution_count": 9,
      "outputs": [
        {
          "output_type": "stream",
          "name": "stdout",
          "text": [
            "dict_keys(['batch_label', 'labels', 'data', 'filenames'])\n",
            "dict_keys(['num_cases_per_batch', 'label_names', 'num_vis'])\n"
          ]
        }
      ]
    },
    {
      "cell_type": "code",
      "source": [
        "one_hot_labels = set(data_batch_1['labels']) # One-hot encoding labels\n",
        "one_hot_labels"
      ],
      "metadata": {
        "colab": {
          "base_uri": "https://localhost:8080/"
        },
        "id": "UJXVw5FK-elO",
        "outputId": "6a067a46-4187-4a83-be58-18c4cd960d6f"
      },
      "execution_count": 10,
      "outputs": [
        {
          "output_type": "execute_result",
          "data": {
            "text/plain": [
              "{0, 1, 2, 3, 4, 5, 6, 7, 8, 9}"
            ]
          },
          "metadata": {},
          "execution_count": 10
        }
      ]
    },
    {
      "cell_type": "code",
      "source": [
        "labels_name = meta_data['label_names']\n",
        "labels_name"
      ],
      "metadata": {
        "colab": {
          "base_uri": "https://localhost:8080/"
        },
        "id": "X7Go6dzj-gg1",
        "outputId": "9f87d217-68d8-4573-b71f-151dee2564e4"
      },
      "execution_count": 11,
      "outputs": [
        {
          "output_type": "execute_result",
          "data": {
            "text/plain": [
              "['airplane',\n",
              " 'automobile',\n",
              " 'bird',\n",
              " 'cat',\n",
              " 'deer',\n",
              " 'dog',\n",
              " 'frog',\n",
              " 'horse',\n",
              " 'ship',\n",
              " 'truck']"
            ]
          },
          "metadata": {},
          "execution_count": 11
        }
      ]
    },
    {
      "cell_type": "code",
      "source": [
        "label_dict = {k:v for k,v in zip(one_hot_labels, labels_name)} # dict(zip(labels, one_hot))\n",
        "label_dict"
      ],
      "metadata": {
        "colab": {
          "base_uri": "https://localhost:8080/"
        },
        "id": "xjuHl-r--iaO",
        "outputId": "b39cf916-8c4f-4af4-a93a-38dddcbe5200"
      },
      "execution_count": 12,
      "outputs": [
        {
          "output_type": "execute_result",
          "data": {
            "text/plain": [
              "{0: 'airplane',\n",
              " 1: 'automobile',\n",
              " 2: 'bird',\n",
              " 3: 'cat',\n",
              " 4: 'deer',\n",
              " 5: 'dog',\n",
              " 6: 'frog',\n",
              " 7: 'horse',\n",
              " 8: 'ship',\n",
              " 9: 'truck'}"
            ]
          },
          "metadata": {},
          "execution_count": 12
        }
      ]
    },
    {
      "cell_type": "code",
      "source": [
        "label_dict.get(8)"
      ],
      "metadata": {
        "colab": {
          "base_uri": "https://localhost:8080/",
          "height": 36
        },
        "id": "dS2lsQuj-khD",
        "outputId": "fefab081-c70d-460f-ca41-dfb0084e703f"
      },
      "execution_count": 13,
      "outputs": [
        {
          "output_type": "execute_result",
          "data": {
            "text/plain": [
              "'ship'"
            ],
            "application/vnd.google.colaboratory.intrinsic+json": {
              "type": "string"
            }
          },
          "metadata": {},
          "execution_count": 13
        }
      ]
    },
    {
      "cell_type": "code",
      "source": [
        "# check the shape of the dataset \n",
        "train_data = list(train_dataset)\n",
        "test_data  = list(test_dataset)\n",
        "print(f'Train data shape: {len(train_data)}')\n",
        "print(f'Test data shape:  {len(test_data)}')"
      ],
      "metadata": {
        "colab": {
          "base_uri": "https://localhost:8080/"
        },
        "id": "qxMSpQ79-mg1",
        "outputId": "8609cb93-0bc5-4c53-a6b5-fd0eb546b901"
      },
      "execution_count": 14,
      "outputs": [
        {
          "output_type": "stream",
          "name": "stdout",
          "text": [
            "Train data shape: 50000\n",
            "Test data shape:  10000\n"
          ]
        }
      ]
    },
    {
      "cell_type": "code",
      "source": [
        "# check the shape of an image in the train data\n",
        "image, label = train_data[300]\n",
        "print(image.shape)\n",
        "print(label)"
      ],
      "metadata": {
        "colab": {
          "base_uri": "https://localhost:8080/"
        },
        "id": "UyySNob--sQK",
        "outputId": "1a42e775-0277-49fb-a666-7469590523da"
      },
      "execution_count": 15,
      "outputs": [
        {
          "output_type": "stream",
          "name": "stdout",
          "text": [
            "torch.Size([3, 32, 32])\n",
            "2\n"
          ]
        }
      ]
    },
    {
      "cell_type": "code",
      "source": [
        "# check some random training images \n",
        "def imshow(img, label):\n",
        "    img = img / 2 + 0.5     # unnormalize\n",
        "    npimg = img.numpy()\n",
        "    plt.imshow(np.transpose(npimg, (1, 2, 0))) # tensor.permute = np.transpose\n",
        "    plt.title(''.join(f'{label_dict.get(label)}' )) # show label\n",
        "    \n",
        "\n",
        "# plt.imshow(image.permute(1,2,0))\n",
        "# plt.show()\n",
        "\n",
        "# get some random training images\n",
        "image, label = train_data[20]\n",
        "\n",
        "imshow(image, label)\n",
        "\n",
        "plt.show()"
      ],
      "metadata": {
        "colab": {
          "base_uri": "https://localhost:8080/",
          "height": 281
        },
        "id": "SnSWIPin-v_F",
        "outputId": "33bea88a-e82b-4877-aba4-c2a241c17baf"
      },
      "execution_count": 16,
      "outputs": [
        {
          "output_type": "display_data",
          "data": {
            "text/plain": [
              "<Figure size 432x288 with 1 Axes>"
            ],
            "image/png": "[encoded data removed]"
          },
          "metadata": {
            "needs_background": "light"
          }
        }
      ]
    },
    {
      "cell_type": "markdown",
      "source": [
        "**Create DataLoader**"
      ],
      "metadata": {
        "id": "mNHIVhhr-zq0"
      }
    },
    {
      "cell_type": "code",
      "source": [
        "batch_size = 64         # hyper-parameter \n",
        "train_loader = torch.utils.data.DataLoader(\n",
        "                            dataset = train_dataset, \n",
        "                            batch_size = batch_size, \n",
        "                            shuffle = True)\n",
        "\n",
        "test_loader = torch.utils.data.DataLoader(\n",
        "                            dataset = test_dataset, \n",
        "                            batch_size = batch_size, \n",
        "                            shuffle = True)"
      ],
      "metadata": {
        "id": "itGhhw4B-0jT"
      },
      "execution_count": 17,
      "outputs": []
    },
    {
      "cell_type": "code",
      "source": [
        "# check the shape of the batches \n",
        "dd = list(train_loader)"
      ],
      "metadata": {
        "id": "F1g2RolZ-3pi"
      },
      "execution_count": 18,
      "outputs": []
    },
    {
      "cell_type": "code",
      "source": [
        "images, labels = dd[0]\n",
        "print(images.shape)\n",
        "print(labels.shape)"
      ],
      "metadata": {
        "colab": {
          "base_uri": "https://localhost:8080/"
        },
        "id": "OvgMLjYW-96n",
        "outputId": "7602e820-9288-42ba-8302-3235b89c0754"
      },
      "execution_count": 19,
      "outputs": [
        {
          "output_type": "stream",
          "name": "stdout",
          "text": [
            "torch.Size([64, 3, 32, 32])\n",
            "torch.Size([64])\n"
          ]
        }
      ]
    },
    {
      "cell_type": "markdown",
      "source": [
        "**Defining the Networks**"
      ],
      "metadata": {
        "id": "YZs9h3cR_Bhl"
      }
    },
    {
      "cell_type": "markdown",
      "source": [
        "In this section, will build three neural network models:\n",
        "\n",
        "Multi-Layer Perceptron (MLP)\n",
        "Convolutional Neural Network (CNN)\n",
        "ResNet9"
      ],
      "metadata": {
        "id": "OpypXeuP_D83"
      }
    },
    {
      "cell_type": "markdown",
      "source": [
        "**MLP**"
      ],
      "metadata": {
        "id": "xftgldeA_PRx"
      }
    },
    {
      "cell_type": "code",
      "source": [
        "class MLP(torch.nn.Module):\n",
        "  def __init__(self, input_size, n_hidden_units, n_classes):\n",
        "    super(MLP, self).__init__()\n",
        "\n",
        "    h1, h2, h3 = n_hidden_units\n",
        "\n",
        "    # Add Linear layers\n",
        "    self.fc1 = nn.Linear(input_size,h1)\n",
        "    self.fc2 = nn.Linear(h1, h2)\n",
        "    self.fc3 = nn.Linear(h2, h3)\n",
        "    self.fc4 = nn.Linear(h3, n_classes) # 10 classes\n",
        "    self.dropout = nn.Dropout(0.25)\n",
        "\n",
        "  def forward(self, x):\n",
        "    x = x.view(-1, input_size) # Flatten out the input layer\n",
        "    x = F.relu(self.fc1(x))\n",
        "    x = F.relu(self.fc2(x))\n",
        "    x = F.relu(self.fc3(x))\n",
        "    x = self.dropout(x)\n",
        "    x = self.fc4(x)\n",
        "    return x"
      ],
      "metadata": {
        "id": "AVN6HqBb_KWM"
      },
      "execution_count": 20,
      "outputs": []
    },
    {
      "cell_type": "code",
      "source": [
        "# Initialize MLP model\n",
        "input_size = IMAGE_HEIGHT*IMAGE_WIDTH*COLOR_CHANNELS\n",
        "n_hidden_units = [512, 256, 128]\n",
        "\n",
        "mlp_model = MLP(input_size, n_hidden_units, N_CLASSES)"
      ],
      "metadata": {
        "id": "u4I-Bz_p_TSH"
      },
      "execution_count": 21,
      "outputs": []
    },
    {
      "cell_type": "code",
      "source": [
        "# check the shape of MLP model\n",
        "output = mlp_model(images)\n",
        "output.shape"
      ],
      "metadata": {
        "colab": {
          "base_uri": "https://localhost:8080/"
        },
        "id": "LB0sx1f6_UsD",
        "outputId": "4308a5c6-5a75-4aa6-8ee9-c45a4f4f321d"
      },
      "execution_count": 22,
      "outputs": [
        {
          "output_type": "execute_result",
          "data": {
            "text/plain": [
              "torch.Size([64, 10])"
            ]
          },
          "metadata": {},
          "execution_count": 22
        }
      ]
    },
    {
      "cell_type": "markdown",
      "source": [
        "**CNN**"
      ],
      "metadata": {
        "id": "UCZ0YUym_XFn"
      }
    },
    {
      "cell_type": "code",
      "source": [
        "def conv3x3(in_channels, out_channels, stride=1):\n",
        "  \"\"\"3x3 convolution with padding\"\"\"\n",
        "  return nn.Conv2d(in_channels, out_channels, kernel_size=3, stride=stride, padding=1, bias=False)"
      ],
      "metadata": {
        "id": "PgPxUo7v_X06"
      },
      "execution_count": 23,
      "outputs": []
    },
    {
      "cell_type": "code",
      "source": [
        "class CNN(torch.nn.Module):\n",
        "  def __init__(self, in_channels, n_classes):\n",
        "    super(CNN, self).__init__()\n",
        "    # Conv layers\n",
        "    self.conv =conv3x3(in_channels=in_channels, out_channels=64)\n",
        "    self.bn = nn.BatchNorm2d(64)\n",
        "    self.relu = nn.ReLU(inplace=True)\n",
        "\n",
        "    #self.conv0 =conv3x3(in_channels=in_channels, out_channels=64)\n",
        "    #self.bn0 = nn.BatchNorm2d(64)\n",
        "\n",
        "    # Residual block\n",
        "    self.conv1 = nn.Conv2d(in_channels=64, out_channels=64, kernel_size=3, stride=1, padding=1)\n",
        "    self.bn1 = nn.BatchNorm2d(64)\n",
        "    self.relu1 = nn.ReLU(inplace=True)\n",
        "\n",
        "    self.conv2 = nn.Conv2d(in_channels=64, out_channels=64, kernel_size=3, stride=1, padding=1)\n",
        "    self.bn2 = nn.BatchNorm2d(64)\n",
        "    self.relu2 = nn.ReLU(inplace=True)\n",
        "\n",
        "    # Pooling\n",
        "    self.avg_pool = nn.AvgPool2d(2)\n",
        "\n",
        "    # Linear layers\n",
        "    self.fc1 = nn.Linear(16384, 64 )\n",
        "    self.fc2 = nn.Linear(64, n_classes)\n",
        "\n",
        "  def forward(self, x):\n",
        "    \n",
        "    #print(identity.shape)\n",
        "    out = self.conv(x)\n",
        "    out = self.bn(out)\n",
        "    out = self.relu(out)\n",
        "\n",
        "    #out = self.conv0(x)\n",
        "    #out = self.bn0(out)\n",
        "    #out = self.relu(out)\n",
        "\n",
        "    out = self.conv1(out)\n",
        "    out = self.bn1(out)\n",
        "    out = self.relu1(out)\n",
        "\n",
        "    out = self.conv2(out)\n",
        "    out = self.bn2(out)\n",
        "    out = self.relu2(out)  # skip connection + out\n",
        "    #print(out.shape)\n",
        "\n",
        "    out = self.avg_pool(out)\n",
        "\n",
        "    out = out.view(out.size(0), -1) # Flatten all dimension except batch\n",
        "    #print(out.shape)\n",
        "\n",
        "    out = self.fc1(out)\n",
        "    out = F.relu(out)\n",
        "\n",
        "    out = self.fc2(out)\n",
        "    #out = F.log_softmax(out, dim=-1) # if using cross entropy, dont need to use log softmax since it's already implemented in cross entropy\n",
        "\n",
        "    return out"
      ],
      "metadata": {
        "id": "yYZdafOI_bU9"
      },
      "execution_count": 24,
      "outputs": []
    },
    {
      "cell_type": "code",
      "source": [
        "cnn_model = CNN(in_channels=3, n_classes=10)"
      ],
      "metadata": {
        "id": "3NPBY2Ja_eYR"
      },
      "execution_count": 25,
      "outputs": []
    },
    {
      "cell_type": "code",
      "source": [
        "images, labels = dd[0]\n",
        "print(images.shape)\n",
        "print(labels.shape)"
      ],
      "metadata": {
        "colab": {
          "base_uri": "https://localhost:8080/"
        },
        "id": "M6DINvOD_f4h",
        "outputId": "38db386c-eca6-4a8b-92a1-f917a75eb723"
      },
      "execution_count": 26,
      "outputs": [
        {
          "output_type": "stream",
          "name": "stdout",
          "text": [
            "torch.Size([64, 3, 32, 32])\n",
            "torch.Size([64])\n"
          ]
        }
      ]
    },
    {
      "cell_type": "code",
      "source": [
        "# Check the output shape of the model\n",
        "output = cnn_model(images)\n",
        "output.shape"
      ],
      "metadata": {
        "colab": {
          "base_uri": "https://localhost:8080/"
        },
        "id": "Lv4EY176_hf7",
        "outputId": "3ad6b345-0c23-4619-e72e-9bb5b715e790"
      },
      "execution_count": 27,
      "outputs": [
        {
          "output_type": "execute_result",
          "data": {
            "text/plain": [
              "torch.Size([64, 10])"
            ]
          },
          "metadata": {},
          "execution_count": 27
        }
      ]
    },
    {
      "cell_type": "markdown",
      "source": [
        "**ResNet9**"
      ],
      "metadata": {
        "id": "PUdJrNkI_j28"
      }
    },
    {
      "cell_type": "code",
      "source": [
        "class BasicResidualBlock(nn.Module):\n",
        "  def __init__(self):\n",
        "    super(BasicResidualBlock, self).__init__()\n",
        "    self.conv1 = nn.Conv2d(in_channels=3, out_channels=3, kernel_size=3, stride=1, padding=1)\n",
        "    self.relu1 = nn.ReLU()\n",
        "    self.conv2 = nn.Conv2d(in_channels=3, out_channels=3, kernel_size=3, stride=1, padding=1)\n",
        "    self.relu2 = nn.ReLU()\n",
        "\n",
        "  def forward(self, x):\n",
        "    identity = x\n",
        "    out = self.conv1(x)\n",
        "    out = self.relu1(out)\n",
        "    out = self.conv2(out)\n",
        "    out = self.relu2(out)\n",
        "    return self.relu2(out) + identity # ReLU can be applied before or after adding the identity/input"
      ],
      "metadata": {
        "id": "SG4avT2A_k8o"
      },
      "execution_count": 28,
      "outputs": []
    },
    {
      "cell_type": "code",
      "source": [
        "# Checking the output size of the BasicResidualBlock\n",
        "simple_resblock = BasicResidualBlock()\n",
        "images, labels = dd[0]\n",
        "print(images.shape)\n",
        "print(labels.shape)"
      ],
      "metadata": {
        "colab": {
          "base_uri": "https://localhost:8080/"
        },
        "id": "eu-PX7Z4_ok0",
        "outputId": "b9e8a2b0-3e3e-4a24-a3aa-99131b70eb7d"
      },
      "execution_count": 29,
      "outputs": [
        {
          "output_type": "stream",
          "name": "stdout",
          "text": [
            "torch.Size([64, 3, 32, 32])\n",
            "torch.Size([64])\n"
          ]
        }
      ]
    },
    {
      "cell_type": "code",
      "source": [
        "out = simple_resblock(images)\n",
        "out.shape"
      ],
      "metadata": {
        "colab": {
          "base_uri": "https://localhost:8080/"
        },
        "id": "vyieyHSS_qdA",
        "outputId": "12f169bf-191d-48ae-bab6-565517b69b19"
      },
      "execution_count": 30,
      "outputs": [
        {
          "output_type": "execute_result",
          "data": {
            "text/plain": [
              "torch.Size([64, 3, 32, 32])"
            ]
          },
          "metadata": {},
          "execution_count": 30
        }
      ]
    },
    {
      "cell_type": "code",
      "source": [
        "def conv_block(in_channels, out_channels, pool=False):\n",
        "  layers = [nn.Conv2d(in_channels, out_channels, kernel_size=3, padding=1),\n",
        "            nn.BatchNorm2d(out_channels),\n",
        "            nn.ReLU(inplace=True)]\n",
        "  if pool: \n",
        "    layers.append(nn.MaxPool2d(2))\n",
        "  return nn.Sequential(*layers)"
      ],
      "metadata": {
        "id": "76-kJQhM_sMk"
      },
      "execution_count": 31,
      "outputs": []
    },
    {
      "cell_type": "code",
      "source": [
        "class ResNet9(nn.Module):\n",
        "  def __init__(self, in_channels, n_classes):\n",
        "    super(ResNet9, self).__init__()\n",
        "\n",
        "    self.conv1 = conv_block(in_channels, 64)\n",
        "    self.conv2 = conv_block(64, 128, pool=True)\n",
        "    self.res1  = nn.Sequential(conv_block(128,128), conv_block(128,128))\n",
        "\n",
        "    self.conv3 = conv_block(128, 256, pool=True)\n",
        "    self.conv4 = conv_block(256, 512, pool=True)\n",
        "    self.res2  = nn.Sequential(conv_block(512,512), conv_block(512,512))\n",
        "\n",
        "    self.classifier = nn.Sequential(nn.MaxPool2d(4),\n",
        "                                    nn.Flatten(),\n",
        "                                    nn.Linear(512, 128),\n",
        "                                    nn.Linear(128, n_classes))\n",
        "    \n",
        "  def forward(self, x):\n",
        "    out = self.conv1(x)\n",
        "    out = self.conv2(out)\n",
        "    out = self.res1(out) + out # skip connection\n",
        "    out = self.conv3(out)\n",
        "    out = self.conv4(out)\n",
        "    out = self.res2(out) + out # skip connection\n",
        "    out = self.classifier(out)\n",
        "    return out"
      ],
      "metadata": {
        "id": "qCdeL-3v_usA"
      },
      "execution_count": 32,
      "outputs": []
    },
    {
      "cell_type": "code",
      "source": [
        "resnet_model = ResNet9(3,10)\n",
        "resnet_model"
      ],
      "metadata": {
        "colab": {
          "base_uri": "https://localhost:8080/"
        },
        "id": "AvLVzngO_wam",
        "outputId": "ae3fcb67-5965-47c1-cfde-9996e7433d9b"
      },
      "execution_count": 33,
      "outputs": [
        {
          "output_type": "execute_result",
          "data": {
            "text/plain": [
              "ResNet9(\n",
              "  (conv1): Sequential(\n",
              "    (0): Conv2d(3, 64, kernel_size=(3, 3), stride=(1, 1), padding=(1, 1))\n",
              "    (1): BatchNorm2d(64, eps=1e-05, momentum=0.1, affine=True, track_running_stats=True)\n",
              "    (2): ReLU(inplace=True)\n",
              "  )\n",
              "  (conv2): Sequential(\n",
              "    (0): Conv2d(64, 128, kernel_size=(3, 3), stride=(1, 1), padding=(1, 1))\n",
              "    (1): BatchNorm2d(128, eps=1e-05, momentum=0.1, affine=True, track_running_stats=True)\n",
              "    (2): ReLU(inplace=True)\n",
              "    (3): MaxPool2d(kernel_size=2, stride=2, padding=0, dilation=1, ceil_mode=False)\n",
              "  )\n",
              "  (res1): Sequential(\n",
              "    (0): Sequential(\n",
              "      (0): Conv2d(128, 128, kernel_size=(3, 3), stride=(1, 1), padding=(1, 1))\n",
              "      (1): BatchNorm2d(128, eps=1e-05, momentum=0.1, affine=True, track_running_stats=True)\n",
              "      (2): ReLU(inplace=True)\n",
              "    )\n",
              "    (1): Sequential(\n",
              "      (0): Conv2d(128, 128, kernel_size=(3, 3), stride=(1, 1), padding=(1, 1))\n",
              "      (1): BatchNorm2d(128, eps=1e-05, momentum=0.1, affine=True, track_running_stats=True)\n",
              "      (2): ReLU(inplace=True)\n",
              "    )\n",
              "  )\n",
              "  (conv3): Sequential(\n",
              "    (0): Conv2d(128, 256, kernel_size=(3, 3), stride=(1, 1), padding=(1, 1))\n",
              "    (1): BatchNorm2d(256, eps=1e-05, momentum=0.1, affine=True, track_running_stats=True)\n",
              "    (2): ReLU(inplace=True)\n",
              "    (3): MaxPool2d(kernel_size=2, stride=2, padding=0, dilation=1, ceil_mode=False)\n",
              "  )\n",
              "  (conv4): Sequential(\n",
              "    (0): Conv2d(256, 512, kernel_size=(3, 3), stride=(1, 1), padding=(1, 1))\n",
              "    (1): BatchNorm2d(512, eps=1e-05, momentum=0.1, affine=True, track_running_stats=True)\n",
              "    (2): ReLU(inplace=True)\n",
              "    (3): MaxPool2d(kernel_size=2, stride=2, padding=0, dilation=1, ceil_mode=False)\n",
              "  )\n",
              "  (res2): Sequential(\n",
              "    (0): Sequential(\n",
              "      (0): Conv2d(512, 512, kernel_size=(3, 3), stride=(1, 1), padding=(1, 1))\n",
              "      (1): BatchNorm2d(512, eps=1e-05, momentum=0.1, affine=True, track_running_stats=True)\n",
              "      (2): ReLU(inplace=True)\n",
              "    )\n",
              "    (1): Sequential(\n",
              "      (0): Conv2d(512, 512, kernel_size=(3, 3), stride=(1, 1), padding=(1, 1))\n",
              "      (1): BatchNorm2d(512, eps=1e-05, momentum=0.1, affine=True, track_running_stats=True)\n",
              "      (2): ReLU(inplace=True)\n",
              "    )\n",
              "  )\n",
              "  (classifier): Sequential(\n",
              "    (0): MaxPool2d(kernel_size=4, stride=4, padding=0, dilation=1, ceil_mode=False)\n",
              "    (1): Flatten(start_dim=1, end_dim=-1)\n",
              "    (2): Linear(in_features=512, out_features=128, bias=True)\n",
              "    (3): Linear(in_features=128, out_features=10, bias=True)\n",
              "  )\n",
              ")"
            ]
          },
          "metadata": {},
          "execution_count": 33
        }
      ]
    },
    {
      "cell_type": "code",
      "source": [
        "images, labels = dd[0]\n",
        "print(images.shape)\n",
        "print(labels.shape)"
      ],
      "metadata": {
        "colab": {
          "base_uri": "https://localhost:8080/"
        },
        "id": "2tDbWXJg_z10",
        "outputId": "a91e590a-9b05-4c21-a96f-4f97c2acb91d"
      },
      "execution_count": 34,
      "outputs": [
        {
          "output_type": "stream",
          "name": "stdout",
          "text": [
            "torch.Size([64, 3, 32, 32])\n",
            "torch.Size([64])\n"
          ]
        }
      ]
    },
    {
      "cell_type": "code",
      "source": [
        "out = resnet_model(images)\n",
        "out.shape"
      ],
      "metadata": {
        "colab": {
          "base_uri": "https://localhost:8080/"
        },
        "id": "ybtIeUq__1NJ",
        "outputId": "b0286db2-9f08-4283-aa0c-d5df36d5685d"
      },
      "execution_count": 35,
      "outputs": [
        {
          "output_type": "execute_result",
          "data": {
            "text/plain": [
              "torch.Size([64, 10])"
            ]
          },
          "metadata": {},
          "execution_count": 35
        }
      ]
    },
    {
      "cell_type": "markdown",
      "source": [
        "Helper functions"
      ],
      "metadata": {
        "id": "NnMeIBJq_3Iz"
      }
    },
    {
      "cell_type": "code",
      "source": [
        "def prediction(data_loader, model, criterion, cuda=None):\n",
        "  correct = 0\n",
        "  total = 0\n",
        "  losses = 0\n",
        "\n",
        "  for i, (images, labels) in enumerate(data_loader):\n",
        "    if cuda is not None:\n",
        "      # switch tensor type to GPU\n",
        "      images = images.cuda()\n",
        "      labels = labels.cuda()\n",
        "    \n",
        "    # Flatten the images\n",
        "    #images = images.view(-1, input_size)\n",
        "    \n",
        "    outputs = model(images)\n",
        "    \n",
        "    loss = criterion(outputs, labels)\n",
        "  \n",
        "    _, predictions = torch.max(outputs, dim=1)\n",
        "  \n",
        "    correct += torch.sum(labels == predictions).item()\n",
        "    total += labels.shape[0]\n",
        "    \n",
        "    losses += loss.data.item()\n",
        "    \n",
        "  return losses/len(list(data_loader)), 1 - correct/total # we need to normalize loss with respect to the number of batches "
      ],
      "metadata": {
        "id": "Zks3hbMK_4Aa"
      },
      "execution_count": 36,
      "outputs": []
    },
    {
      "cell_type": "markdown",
      "source": [
        "**Define a Loss function and optimizer**"
      ],
      "metadata": {
        "id": "lYZHq-cq_-eH"
      }
    },
    {
      "cell_type": "markdown",
      "source": [
        "Learning rate scheduling: Learning rate scheduler -> change the learning rate after every batch of training. \"One Cycle Learning Rate Policy\" -> starting with a low learning rate, gradually increasing it batch-by-batch to a high learning rate for about 30% epochs, then gradually decreasing it to a very low value for the remaining epochs.\n"
      ],
      "metadata": {
        "id": "pQVm-uEQAAEr"
      }
    },
    {
      "cell_type": "markdown",
      "source": [
        "Weight decay: Regularization technique to prevent the weights from becoming too large by adding an additional term to the loss function\n",
        "."
      ],
      "metadata": {
        "id": "ytD66nY8ALOw"
      }
    },
    {
      "cell_type": "markdown",
      "source": [
        "Gradient clipping: it's helpful to limit the values of gradients to a small range to prevent undesirable changes in parameters due to large gradient values"
      ],
      "metadata": {
        "id": "zMzAd6zYANHe"
      }
    },
    {
      "cell_type": "markdown",
      "source": [
        "Fit one cycle"
      ],
      "metadata": {
        "id": "Ma2LjkJjAP3r"
      }
    },
    {
      "cell_type": "code",
      "source": [
        "def get_lr(optimizer):\n",
        "  for param_group in optimizer.param_groups:\n",
        "    return param_group['lr']"
      ],
      "metadata": {
        "id": "ffRdU6iEAC6D"
      },
      "execution_count": 37,
      "outputs": []
    },
    {
      "cell_type": "code",
      "source": [
        "# define a fit_one_cycle function to incorporate learning rate scheduling, weight decay and gradient clipping\n",
        "def fit_one_cycle(epochs, max_lr, model, train_loader, val_loader, criterion,\n",
        "                  weight_decay=0, grad_clip=None, opt_func=torch.optim.SGD, cuda=None):\n",
        "  torch.cuda.empty_cache() # release all unoccupied cached memory\n",
        "  history = []\n",
        "\n",
        "  # Set up custom optimizer with weight decay\n",
        "  optimizer = opt_func(model.parameters(), max_lr, weight_decay=weight_decay)\n",
        "  # Set up one-cycle learning rate scheduler\n",
        "  sched = torch.optim.lr_scheduler.OneCycleLR(optimizer, max_lr, epochs=epochs,\n",
        "                                              steps_per_epoch=len(train_loader))\n",
        "  \n",
        "  if cuda is not None:\n",
        "    model.cuda() # send model to device\n",
        "\n",
        "  train_losses = []\n",
        "  test_losses = []\n",
        "\n",
        "  train_error_rates = []\n",
        "  test_error_rates = []\n",
        "\n",
        "  # Loop through all epochs\n",
        "  for epoch in range(epochs):\n",
        "    train_loss = 0\n",
        "    n_iter = 0\n",
        "    total = 0\n",
        "    correct = 0\n",
        "    lrs = []\n",
        "\n",
        "    # Training phase\n",
        "    for i, (images, labels) in enumerate(train_loader):\n",
        "      optimizer.zero_grad() # zero gradients out before computing others\n",
        "\n",
        "      if cuda is not None:\n",
        "        images = images.cuda()\n",
        "        labels = labels.cuda()\n",
        "\n",
        "      #images = images.view(-1, input_size) # Flatten input image\n",
        "      # dont need in this case since it's CNN model\n",
        "      outputs = model(images) \n",
        "\n",
        "      # compute the train_error rates\n",
        "      # torch.max(input, dim) ->\n",
        "      # returns the maximum value of all elements in the input tensor\n",
        "      _, predictions = torch.max(outputs, 1) \n",
        "      correct += torch.sum(labels == predictions).item()\n",
        "      total += labels.shape[0]\n",
        "\n",
        "      # compute loss\n",
        "      loss = criterion(outputs, labels)\n",
        "      # compute gradients\n",
        "      loss.backward()\n",
        "\n",
        "      # Gradient clipping:\n",
        "      if grad_clip is not None:\n",
        "        nn.utils.clip_grad_value_(model.parameters(), grad_clip)\n",
        "\n",
        "      # update weights/parameters\n",
        "      optimizer.step()\n",
        "\n",
        "      # record and update learning rate\n",
        "      lrs.append(get_lr(optimizer))\n",
        "      sched.step()\n",
        "\n",
        "      train_loss += loss.detach().item()\n",
        "\n",
        "      n_iter += 1\n",
        "    \n",
        "    train_error_rate = 1 - correct/total\n",
        "\n",
        "    # Validation phase\n",
        "    with torch.no_grad():\n",
        "      test_loss, test_error_rate = prediction(val_loader, model, criterion, cuda)\n",
        "\n",
        "    train_error_rates.append(train_error_rate)\n",
        "    test_error_rates.append(test_error_rate)\n",
        "    train_losses.append(train_loss/n_iter)\n",
        "    test_losses.append(test_loss)\n",
        "    results ={'train_loss': train_loss/n_iter,'val_loss': test_loss, 'val_acc': (1-train_error_rate)*100}\n",
        "    results['lrs'] = lrs\n",
        "    history.append(results)\n",
        "\n",
        "    if epoch%1 == 0:\n",
        "      print('Epoch: {}/{}, last_lr: {:.5f}, train_loss: {:.4f}, val_loss: {:.4f}, val_accuracy: {:.1f}%'.format(epoch+1, epochs, results['lrs'][-1], train_loss/n_iter, test_loss, (1-train_error_rate)*100))\n",
        "\n",
        "  return history"
      ],
      "metadata": {
        "id": "FfHbYDa8AUes"
      },
      "execution_count": 41,
      "outputs": []
    }
  ]
}