{
  "nbformat": 4,
  "nbformat_minor": 0,
  "metadata": {
    "colab": {
      "name": "Week1.ipynb",
      "provenance": [],
      "mount_file_id": "1S7XYw3dqnNZTKIuhEFQLOoB4XLxJB2qi",
      "authorship_tag": "ABX9TyN/mg1SyMKt9mLvlNhMUdVS",
      "include_colab_link": true
    },
    "kernelspec": {
      "name": "python3",
      "display_name": "Python 3"
    },
    "language_info": {
      "name": "python"
    }
  },
  "cells": [
    {
      "cell_type": "markdown",
      "metadata": {
        "id": "view-in-github",
        "colab_type": "text"
      },
      "source": [
        "<a href=\"https://colab.research.google.com/github/NoviantoAryansyah/ML_HOMEWORK/blob/main/HomeWork_Week1/Week1.ipynb\" target=\"_parent\"><img src=\"https://colab.research.google.com/assets/colab-badge.svg\" alt=\"Open In Colab\"/></a>"
      ]
    },
    {
      "cell_type": "code",
      "source": [
        "from google.colab import drive\n",
        "drive.mount('/content/gdrive')"
      ],
      "metadata": {
        "colab": {
          "base_uri": "https://localhost:8080/"
        },
        "id": "9D4GRRbKwK62",
        "outputId": "275106d4-6cae-42c3-db12-cd1bc4b7568e"
      },
      "execution_count": 2,
      "outputs": [
        {
          "output_type": "stream",
          "name": "stdout",
          "text": [
            "Mounted at /content/gdrive\n"
          ]
        }
      ]
    },
    {
      "cell_type": "markdown",
      "source": [
        "**1. Basic data exploratory**"
      ],
      "metadata": {
        "id": "hvS9u3_q3lCt"
      }
    },
    {
      "cell_type": "code",
      "execution_count": 1,
      "metadata": {
        "colab": {
          "base_uri": "https://localhost:8080/"
        },
        "id": "kRyo4yEuu1gd",
        "outputId": "9d4b3053-7be3-4a8a-f018-f61d9e9dcf49"
      },
      "outputs": [
        {
          "output_type": "execute_result",
          "data": {
            "text/plain": [
              "Index(['Suburb', 'Address', 'Rooms', 'Type', 'Price', 'Method', 'SellerG',\n",
              "       'Date', 'Distance', 'Postcode', 'Bedroom2', 'Bathroom', 'Car',\n",
              "       'Landsize', 'BuildingArea', 'YearBuilt', 'CouncilArea', 'Lattitude',\n",
              "       'Longtitude', 'Regionname', 'Propertycount'],\n",
              "      dtype='object')"
            ]
          },
          "metadata": {},
          "execution_count": 1
        }
      ],
      "source": [
        "import pandas as pd\n",
        "\n",
        "melbourne_file_path = '../content/drive/My Drive/Data Set/melb_data.csv'\n",
        "melbourne_data = pd.read_csv(melbourne_file_path) \n",
        "melbourne_data.columns"
      ]
    },
    {
      "cell_type": "code",
      "source": [
        "# dropna drops missing values (think of na as \"not available\")\n",
        "melbourne_data = melbourne_data.dropna(axis=0)"
      ],
      "metadata": {
        "id": "A5AQfXsy2kwB"
      },
      "execution_count": 2,
      "outputs": []
    },
    {
      "cell_type": "code",
      "source": [
        "y = melbourne_data.Price"
      ],
      "metadata": {
        "id": "AFWmU8ET3FpV"
      },
      "execution_count": 3,
      "outputs": []
    },
    {
      "cell_type": "code",
      "source": [
        "melbourne_features = ['Rooms', 'Bathroom', 'Landsize', 'Lattitude', 'Longtitude']"
      ],
      "metadata": {
        "id": "lMkYeZ-G3JR8"
      },
      "execution_count": 4,
      "outputs": []
    },
    {
      "cell_type": "code",
      "source": [
        "x = melbourne_data[melbourne_features]"
      ],
      "metadata": {
        "id": "vn6z63j13MOH"
      },
      "execution_count": 5,
      "outputs": []
    },
    {
      "cell_type": "code",
      "source": [
        "x.describe()"
      ],
      "metadata": {
        "colab": {
          "base_uri": "https://localhost:8080/",
          "height": 300
        },
        "id": "O2CgwUAs3PgZ",
        "outputId": "bc163000-a8bd-4f22-9b66-25267eb209ad"
      },
      "execution_count": 6,
      "outputs": [
        {
          "output_type": "execute_result",
          "data": {
            "text/plain": [
              "             Rooms     Bathroom      Landsize    Lattitude   Longtitude\n",
              "count  6196.000000  6196.000000   6196.000000  6196.000000  6196.000000\n",
              "mean      2.931407     1.576340    471.006940   -37.807904   144.990201\n",
              "std       0.971079     0.711362    897.449881     0.075850     0.099165\n",
              "min       1.000000     1.000000      0.000000   -38.164920   144.542370\n",
              "25%       2.000000     1.000000    152.000000   -37.855438   144.926198\n",
              "50%       3.000000     1.000000    373.000000   -37.802250   144.995800\n",
              "75%       4.000000     2.000000    628.000000   -37.758200   145.052700\n",
              "max       8.000000     8.000000  37000.000000   -37.457090   145.526350"
            ],
            "text/html": [
              "\n",
              "  <div id=\"df-de293789-79e2-4f59-ad66-1ca3d02c4991\">\n",
              "    <div class=\"colab-df-container\">\n",
              "      <div>\n",
              "<style scoped>\n",
              "    .dataframe tbody tr th:only-of-type {\n",
              "        vertical-align: middle;\n",
              "    }\n",
              "\n",
              "    .dataframe tbody tr th {\n",
              "        vertical-align: top;\n",
              "    }\n",
              "\n",
              "    .dataframe thead th {\n",
              "        text-align: right;\n",
              "    }\n",
              "</style>\n",
              "<table border=\"1\" class=\"dataframe\">\n",
              "  <thead>\n",
              "    <tr style=\"text-align: right;\">\n",
              "      <th></th>\n",
              "      <th>Rooms</th>\n",
              "      <th>Bathroom</th>\n",
              "      <th>Landsize</th>\n",
              "      <th>Lattitude</th>\n",
              "      <th>Longtitude</th>\n",
              "    </tr>\n",
              "  </thead>\n",
              "  <tbody>\n",
              "    <tr>\n",
              "      <th>count</th>\n",
              "      <td>6196.000000</td>\n",
              "      <td>6196.000000</td>\n",
              "      <td>6196.000000</td>\n",
              "      <td>6196.000000</td>\n",
              "      <td>6196.000000</td>\n",
              "    </tr>\n",
              "    <tr>\n",
              "      <th>mean</th>\n",
              "      <td>2.931407</td>\n",
              "      <td>1.576340</td>\n",
              "      <td>471.006940</td>\n",
              "      <td>-37.807904</td>\n",
              "      <td>144.990201</td>\n",
              "    </tr>\n",
              "    <tr>\n",
              "      <th>std</th>\n",
              "      <td>0.971079</td>\n",
              "      <td>0.711362</td>\n",
              "      <td>897.449881</td>\n",
              "      <td>0.075850</td>\n",
              "      <td>0.099165</td>\n",
              "    </tr>\n",
              "    <tr>\n",
              "      <th>min</th>\n",
              "      <td>1.000000</td>\n",
              "      <td>1.000000</td>\n",
              "      <td>0.000000</td>\n",
              "      <td>-38.164920</td>\n",
              "      <td>144.542370</td>\n",
              "    </tr>\n",
              "    <tr>\n",
              "      <th>25%</th>\n",
              "      <td>2.000000</td>\n",
              "      <td>1.000000</td>\n",
              "      <td>152.000000</td>\n",
              "      <td>-37.855438</td>\n",
              "      <td>144.926198</td>\n",
              "    </tr>\n",
              "    <tr>\n",
              "      <th>50%</th>\n",
              "      <td>3.000000</td>\n",
              "      <td>1.000000</td>\n",
              "      <td>373.000000</td>\n",
              "      <td>-37.802250</td>\n",
              "      <td>144.995800</td>\n",
              "    </tr>\n",
              "    <tr>\n",
              "      <th>75%</th>\n",
              "      <td>4.000000</td>\n",
              "      <td>2.000000</td>\n",
              "      <td>628.000000</td>\n",
              "      <td>-37.758200</td>\n",
              "      <td>145.052700</td>\n",
              "    </tr>\n",
              "    <tr>\n",
              "      <th>max</th>\n",
              "      <td>8.000000</td>\n",
              "      <td>8.000000</td>\n",
              "      <td>37000.000000</td>\n",
              "      <td>-37.457090</td>\n",
              "      <td>145.526350</td>\n",
              "    </tr>\n",
              "  </tbody>\n",
              "</table>\n",
              "</div>\n",
              "      <button class=\"colab-df-convert\" onclick=\"convertToInteractive('df-de293789-79e2-4f59-ad66-1ca3d02c4991')\"\n",
              "              title=\"Convert this dataframe to an interactive table.\"\n",
              "              style=\"display:none;\">\n",
              "        \n",
              "  <svg xmlns=\"http://www.w3.org/2000/svg\" height=\"24px\"viewBox=\"0 0 24 24\"\n",
              "       width=\"24px\">\n",
              "    <path d=\"M0 0h24v24H0V0z\" fill=\"none\"/>\n",
              "    <path d=\"M18.56 5.44l.94 2.06.94-2.06 2.06-.94-2.06-.94-.94-2.06-.94 2.06-2.06.94zm-11 1L8.5 8.5l.94-2.06 2.06-.94-2.06-.94L8.5 2.5l-.94 2.06-2.06.94zm10 10l.94 2.06.94-2.06 2.06-.94-2.06-.94-.94-2.06-.94 2.06-2.06.94z\"/><path d=\"M17.41 7.96l-1.37-1.37c-.4-.4-.92-.59-1.43-.59-.52 0-1.04.2-1.43.59L10.3 9.45l-7.72 7.72c-.78.78-.78 2.05 0 2.83L4 21.41c.39.39.9.59 1.41.59.51 0 1.02-.2 1.41-.59l7.78-7.78 2.81-2.81c.8-.78.8-2.07 0-2.86zM5.41 20L4 18.59l7.72-7.72 1.47 1.35L5.41 20z\"/>\n",
              "  </svg>\n",
              "      </button>\n",
              "      \n",
              "  <style>\n",
              "    .colab-df-container {\n",
              "      display:flex;\n",
              "      flex-wrap:wrap;\n",
              "      gap: 12px;\n",
              "    }\n",
              "\n",
              "    .colab-df-convert {\n",
              "      background-color: #E8F0FE;\n",
              "      border: none;\n",
              "      border-radius: 50%;\n",
              "      cursor: pointer;\n",
              "      display: none;\n",
              "      fill: #1967D2;\n",
              "      height: 32px;\n",
              "      padding: 0 0 0 0;\n",
              "      width: 32px;\n",
              "    }\n",
              "\n",
              "    .colab-df-convert:hover {\n",
              "      background-color: #E2EBFA;\n",
              "      box-shadow: 0px 1px 2px rgba(60, 64, 67, 0.3), 0px 1px 3px 1px rgba(60, 64, 67, 0.15);\n",
              "      fill: #174EA6;\n",
              "    }\n",
              "\n",
              "    [theme=dark] .colab-df-convert {\n",
              "      background-color: #3B4455;\n",
              "      fill: #D2E3FC;\n",
              "    }\n",
              "\n",
              "    [theme=dark] .colab-df-convert:hover {\n",
              "      background-color: #434B5C;\n",
              "      box-shadow: 0px 1px 3px 1px rgba(0, 0, 0, 0.15);\n",
              "      filter: drop-shadow(0px 1px 2px rgba(0, 0, 0, 0.3));\n",
              "      fill: #FFFFFF;\n",
              "    }\n",
              "  </style>\n",
              "\n",
              "      <script>\n",
              "        const buttonEl =\n",
              "          document.querySelector('#df-de293789-79e2-4f59-ad66-1ca3d02c4991 button.colab-df-convert');\n",
              "        buttonEl.style.display =\n",
              "          google.colab.kernel.accessAllowed ? 'block' : 'none';\n",
              "\n",
              "        async function convertToInteractive(key) {\n",
              "          const element = document.querySelector('#df-de293789-79e2-4f59-ad66-1ca3d02c4991');\n",
              "          const dataTable =\n",
              "            await google.colab.kernel.invokeFunction('convertToInteractive',\n",
              "                                                     [key], {});\n",
              "          if (!dataTable) return;\n",
              "\n",
              "          const docLinkHtml = 'Like what you see? Visit the ' +\n",
              "            '<a target=\"_blank\" href=https://colab.research.google.com/notebooks/data_table.ipynb>data table notebook</a>'\n",
              "            + ' to learn more about interactive tables.';\n",
              "          element.innerHTML = '';\n",
              "          dataTable['output_type'] = 'display_data';\n",
              "          await google.colab.output.renderOutput(dataTable, element);\n",
              "          const docLink = document.createElement('div');\n",
              "          docLink.innerHTML = docLinkHtml;\n",
              "          element.appendChild(docLink);\n",
              "        }\n",
              "      </script>\n",
              "    </div>\n",
              "  </div>\n",
              "  "
            ]
          },
          "metadata": {},
          "execution_count": 6
        }
      ]
    },
    {
      "cell_type": "code",
      "source": [
        "x.head()"
      ],
      "metadata": {
        "colab": {
          "base_uri": "https://localhost:8080/",
          "height": 206
        },
        "id": "fN3yqHlg3TRM",
        "outputId": "ea5ce45c-bb42-41e8-d9c2-e35b2804bb49"
      },
      "execution_count": 7,
      "outputs": [
        {
          "output_type": "execute_result",
          "data": {
            "text/plain": [
              "   Rooms  Bathroom  Landsize  Lattitude  Longtitude\n",
              "1      2       1.0     156.0   -37.8079    144.9934\n",
              "2      3       2.0     134.0   -37.8093    144.9944\n",
              "4      4       1.0     120.0   -37.8072    144.9941\n",
              "6      3       2.0     245.0   -37.8024    144.9993\n",
              "7      2       1.0     256.0   -37.8060    144.9954"
            ],
            "text/html": [
              "\n",
              "  <div id=\"df-934b8bfc-81ef-4386-9c2b-42459850602f\">\n",
              "    <div class=\"colab-df-container\">\n",
              "      <div>\n",
              "<style scoped>\n",
              "    .dataframe tbody tr th:only-of-type {\n",
              "        vertical-align: middle;\n",
              "    }\n",
              "\n",
              "    .dataframe tbody tr th {\n",
              "        vertical-align: top;\n",
              "    }\n",
              "\n",
              "    .dataframe thead th {\n",
              "        text-align: right;\n",
              "    }\n",
              "</style>\n",
              "<table border=\"1\" class=\"dataframe\">\n",
              "  <thead>\n",
              "    <tr style=\"text-align: right;\">\n",
              "      <th></th>\n",
              "      <th>Rooms</th>\n",
              "      <th>Bathroom</th>\n",
              "      <th>Landsize</th>\n",
              "      <th>Lattitude</th>\n",
              "      <th>Longtitude</th>\n",
              "    </tr>\n",
              "  </thead>\n",
              "  <tbody>\n",
              "    <tr>\n",
              "      <th>1</th>\n",
              "      <td>2</td>\n",
              "      <td>1.0</td>\n",
              "      <td>156.0</td>\n",
              "      <td>-37.8079</td>\n",
              "      <td>144.9934</td>\n",
              "    </tr>\n",
              "    <tr>\n",
              "      <th>2</th>\n",
              "      <td>3</td>\n",
              "      <td>2.0</td>\n",
              "      <td>134.0</td>\n",
              "      <td>-37.8093</td>\n",
              "      <td>144.9944</td>\n",
              "    </tr>\n",
              "    <tr>\n",
              "      <th>4</th>\n",
              "      <td>4</td>\n",
              "      <td>1.0</td>\n",
              "      <td>120.0</td>\n",
              "      <td>-37.8072</td>\n",
              "      <td>144.9941</td>\n",
              "    </tr>\n",
              "    <tr>\n",
              "      <th>6</th>\n",
              "      <td>3</td>\n",
              "      <td>2.0</td>\n",
              "      <td>245.0</td>\n",
              "      <td>-37.8024</td>\n",
              "      <td>144.9993</td>\n",
              "    </tr>\n",
              "    <tr>\n",
              "      <th>7</th>\n",
              "      <td>2</td>\n",
              "      <td>1.0</td>\n",
              "      <td>256.0</td>\n",
              "      <td>-37.8060</td>\n",
              "      <td>144.9954</td>\n",
              "    </tr>\n",
              "  </tbody>\n",
              "</table>\n",
              "</div>\n",
              "      <button class=\"colab-df-convert\" onclick=\"convertToInteractive('df-934b8bfc-81ef-4386-9c2b-42459850602f')\"\n",
              "              title=\"Convert this dataframe to an interactive table.\"\n",
              "              style=\"display:none;\">\n",
              "        \n",
              "  <svg xmlns=\"http://www.w3.org/2000/svg\" height=\"24px\"viewBox=\"0 0 24 24\"\n",
              "       width=\"24px\">\n",
              "    <path d=\"M0 0h24v24H0V0z\" fill=\"none\"/>\n",
              "    <path d=\"M18.56 5.44l.94 2.06.94-2.06 2.06-.94-2.06-.94-.94-2.06-.94 2.06-2.06.94zm-11 1L8.5 8.5l.94-2.06 2.06-.94-2.06-.94L8.5 2.5l-.94 2.06-2.06.94zm10 10l.94 2.06.94-2.06 2.06-.94-2.06-.94-.94-2.06-.94 2.06-2.06.94z\"/><path d=\"M17.41 7.96l-1.37-1.37c-.4-.4-.92-.59-1.43-.59-.52 0-1.04.2-1.43.59L10.3 9.45l-7.72 7.72c-.78.78-.78 2.05 0 2.83L4 21.41c.39.39.9.59 1.41.59.51 0 1.02-.2 1.41-.59l7.78-7.78 2.81-2.81c.8-.78.8-2.07 0-2.86zM5.41 20L4 18.59l7.72-7.72 1.47 1.35L5.41 20z\"/>\n",
              "  </svg>\n",
              "      </button>\n",
              "      \n",
              "  <style>\n",
              "    .colab-df-container {\n",
              "      display:flex;\n",
              "      flex-wrap:wrap;\n",
              "      gap: 12px;\n",
              "    }\n",
              "\n",
              "    .colab-df-convert {\n",
              "      background-color: #E8F0FE;\n",
              "      border: none;\n",
              "      border-radius: 50%;\n",
              "      cursor: pointer;\n",
              "      display: none;\n",
              "      fill: #1967D2;\n",
              "      height: 32px;\n",
              "      padding: 0 0 0 0;\n",
              "      width: 32px;\n",
              "    }\n",
              "\n",
              "    .colab-df-convert:hover {\n",
              "      background-color: #E2EBFA;\n",
              "      box-shadow: 0px 1px 2px rgba(60, 64, 67, 0.3), 0px 1px 3px 1px rgba(60, 64, 67, 0.15);\n",
              "      fill: #174EA6;\n",
              "    }\n",
              "\n",
              "    [theme=dark] .colab-df-convert {\n",
              "      background-color: #3B4455;\n",
              "      fill: #D2E3FC;\n",
              "    }\n",
              "\n",
              "    [theme=dark] .colab-df-convert:hover {\n",
              "      background-color: #434B5C;\n",
              "      box-shadow: 0px 1px 3px 1px rgba(0, 0, 0, 0.15);\n",
              "      filter: drop-shadow(0px 1px 2px rgba(0, 0, 0, 0.3));\n",
              "      fill: #FFFFFF;\n",
              "    }\n",
              "  </style>\n",
              "\n",
              "      <script>\n",
              "        const buttonEl =\n",
              "          document.querySelector('#df-934b8bfc-81ef-4386-9c2b-42459850602f button.colab-df-convert');\n",
              "        buttonEl.style.display =\n",
              "          google.colab.kernel.accessAllowed ? 'block' : 'none';\n",
              "\n",
              "        async function convertToInteractive(key) {\n",
              "          const element = document.querySelector('#df-934b8bfc-81ef-4386-9c2b-42459850602f');\n",
              "          const dataTable =\n",
              "            await google.colab.kernel.invokeFunction('convertToInteractive',\n",
              "                                                     [key], {});\n",
              "          if (!dataTable) return;\n",
              "\n",
              "          const docLinkHtml = 'Like what you see? Visit the ' +\n",
              "            '<a target=\"_blank\" href=https://colab.research.google.com/notebooks/data_table.ipynb>data table notebook</a>'\n",
              "            + ' to learn more about interactive tables.';\n",
              "          element.innerHTML = '';\n",
              "          dataTable['output_type'] = 'display_data';\n",
              "          await google.colab.output.renderOutput(dataTable, element);\n",
              "          const docLink = document.createElement('div');\n",
              "          docLink.innerHTML = docLinkHtml;\n",
              "          element.appendChild(docLink);\n",
              "        }\n",
              "      </script>\n",
              "    </div>\n",
              "  </div>\n",
              "  "
            ]
          },
          "metadata": {},
          "execution_count": 7
        }
      ]
    },
    {
      "cell_type": "markdown",
      "source": [
        "**2. Building model**"
      ],
      "metadata": {
        "id": "Hk52Wqor4wEt"
      }
    },
    {
      "cell_type": "code",
      "source": [
        "from sklearn.tree import DecisionTreeRegressor\n",
        "\n",
        "# Define model. Specify a number for random_state to ensure same results each run\n",
        "melbourne_model = DecisionTreeRegressor(random_state=1)\n",
        "\n",
        "# Fit model\n",
        "melbourne_model.fit(x, y)"
      ],
      "metadata": {
        "colab": {
          "base_uri": "https://localhost:8080/"
        },
        "id": "SZx2pLmC3xdz",
        "outputId": "82ec1182-17d0-4549-841b-3b2cce0e1481"
      },
      "execution_count": 8,
      "outputs": [
        {
          "output_type": "execute_result",
          "data": {
            "text/plain": [
              "DecisionTreeRegressor(random_state=1)"
            ]
          },
          "metadata": {},
          "execution_count": 8
        }
      ]
    },
    {
      "cell_type": "code",
      "source": [
        "print(\"Making predictions for the following 5 houses:\")\n",
        "print(x.head())\n",
        "print(\"The predictions are\")\n",
        "print(melbourne_model.predict(x.head()))"
      ],
      "metadata": {
        "colab": {
          "base_uri": "https://localhost:8080/"
        },
        "id": "xq662K6j4mPO",
        "outputId": "ef752cba-2fce-4bea-c314-97e9ed1caea2"
      },
      "execution_count": 10,
      "outputs": [
        {
          "output_type": "stream",
          "name": "stdout",
          "text": [
            "Making predictions for the following 5 houses:\n",
            "   Rooms  Bathroom  Landsize  Lattitude  Longtitude\n",
            "1      2       1.0     156.0   -37.8079    144.9934\n",
            "2      3       2.0     134.0   -37.8093    144.9944\n",
            "4      4       1.0     120.0   -37.8072    144.9941\n",
            "6      3       2.0     245.0   -37.8024    144.9993\n",
            "7      2       1.0     256.0   -37.8060    144.9954\n",
            "The predictions are\n",
            "[1035000. 1465000. 1600000. 1876000. 1636000.]\n"
          ]
        }
      ]
    },
    {
      "cell_type": "markdown",
      "source": [
        "**Decision tree model**"
      ],
      "metadata": {
        "id": "zW58SD9C5j3x"
      }
    },
    {
      "cell_type": "code",
      "source": [
        "from sklearn.tree import DecisionTreeRegressor\n",
        "\n",
        "# Define model. Specify a number for random_state to ensure same result each run \n",
        "melbourne_model = DecisionTreeRegressor(random_state=1)"
      ],
      "metadata": {
        "id": "Z6EI17KF5sPE"
      },
      "execution_count": 11,
      "outputs": []
    },
    {
      "cell_type": "code",
      "source": [
        "#Fit model\n",
        "melbourne_model.fit(x,y)"
      ],
      "metadata": {
        "id": "ldcxXxjY5x4O"
      },
      "execution_count": null,
      "outputs": []
    },
    {
      "cell_type": "code",
      "source": [
        "# Test the result on training data\n",
        "print(\"Making predictions for the following 5 houses:\")\n",
        "print(x.head())\n",
        "print(\"The predictions are\")\n",
        "print(melbourne_model.predict(x.head()))"
      ],
      "metadata": {
        "colab": {
          "base_uri": "https://localhost:8080/"
        },
        "id": "iS8fn6Sk6g3V",
        "outputId": "26fdc32f-5981-47a7-b2e9-6d6d3c077a59"
      },
      "execution_count": 13,
      "outputs": [
        {
          "output_type": "stream",
          "name": "stdout",
          "text": [
            "Making predictions for the following 5 houses:\n",
            "   Rooms  Bathroom  Landsize  Lattitude  Longtitude\n",
            "1      2       1.0     156.0   -37.8079    144.9934\n",
            "2      3       2.0     134.0   -37.8093    144.9944\n",
            "4      4       1.0     120.0   -37.8072    144.9941\n",
            "6      3       2.0     245.0   -37.8024    144.9993\n",
            "7      2       1.0     256.0   -37.8060    144.9954\n",
            "The predictions are\n",
            "[1035000. 1465000. 1600000. 1876000. 1636000.]\n"
          ]
        }
      ]
    },
    {
      "cell_type": "markdown",
      "source": [
        "**MODEL VALIDATION**"
      ],
      "metadata": {
        "id": "Z5Wck3ks6m2M"
      }
    },
    {
      "cell_type": "markdown",
      "source": [
        ""
      ],
      "metadata": {
        "id": "wsEsNJkF2joW"
      }
    },
    {
      "cell_type": "code",
      "source": [
        "# Calculate the mean absolute error MSE:\n",
        "\n",
        "from sklearn.metrics import mean_absolute_error\n",
        "\n",
        "predicted_home_prices = melbourne_model.predict(x)\n",
        "mean_absolute_error(y, predicted_home_prices)"
      ],
      "metadata": {
        "colab": {
          "base_uri": "https://localhost:8080/"
        },
        "id": "MJerCceC6pwe",
        "outputId": "db0e09eb-2580-484f-aa53-63283bb467dc"
      },
      "execution_count": 14,
      "outputs": [
        {
          "output_type": "execute_result",
          "data": {
            "text/plain": [
              "1115.7467183128902"
            ]
          },
          "metadata": {},
          "execution_count": 14
        }
      ]
    },
    {
      "cell_type": "code",
      "source": [
        "# use some of that data as training data to fit the model,\n",
        "# and use the other data as validation data to calculate mean_absolute_error"
      ],
      "metadata": {
        "id": "f5v4qHvE6uvZ"
      },
      "execution_count": 15,
      "outputs": []
    },
    {
      "cell_type": "code",
      "source": [
        "from sklearn.model_selection import train_test_split\n",
        "\n",
        "# split data into training and validation data, for both features and target\n",
        "# The split is based on a random number generator. Supplying a numeric value to \n",
        "# the random_state argument guarantees we get the same split every time we\n",
        "# run this script \n",
        "train_x, val_x, train_y, val_y = train_test_split(x, y, random_state = 0)"
      ],
      "metadata": {
        "id": "_f1lDN0R6vc6"
      },
      "execution_count": 16,
      "outputs": []
    },
    {
      "cell_type": "code",
      "source": [
        "# Define model\n",
        "melbourne_model = DecisionTreeRegressor()\n",
        "# Fit Model\n",
        "melbourne_model.fit(train_x, train_y)"
      ],
      "metadata": {
        "colab": {
          "base_uri": "https://localhost:8080/"
        },
        "id": "VC8vpFQp6z27",
        "outputId": "2b8653d7-b75e-4d0e-a2d2-60c9ec450fb5"
      },
      "execution_count": 17,
      "outputs": [
        {
          "output_type": "execute_result",
          "data": {
            "text/plain": [
              "DecisionTreeRegressor()"
            ]
          },
          "metadata": {},
          "execution_count": 17
        }
      ]
    },
    {
      "cell_type": "code",
      "source": [
        "#kodingan buat liat value pada data validasi tersebut\n",
        "val_predictions = melbourne_model.predict(val_x)\n",
        "print(mean_absolute_error(val_y, val_predictions))"
      ],
      "metadata": {
        "colab": {
          "base_uri": "https://localhost:8080/"
        },
        "id": "27OisTm-6519",
        "outputId": "86caf723-8db2-460e-dd97-19252c517add"
      },
      "execution_count": 18,
      "outputs": [
        {
          "output_type": "stream",
          "name": "stdout",
          "text": [
            "272461.94706262107\n"
          ]
        }
      ]
    },
    {
      "cell_type": "markdown",
      "source": [
        "**Under fitting and overfitting**"
      ],
      "metadata": {
        "id": "4QtdQgM2-Ely"
      }
    },
    {
      "cell_type": "code",
      "source": [
        "# use a utility function to help compare MAE scores from different values for max_leaf_nodes :\n",
        "from sklearn.metrics import mean_absolute_error\n",
        "from sklearn.tree import DecisionTreeRegressor\n",
        "\n",
        "def get_mae(max_leaf_nodes, train_x, val_x, train_y, val_y):\n",
        "  model = DecisionTreeRegressor(max_leaf_nodes=max_leaf_nodes, random_state=0)\n",
        "  model.fit(train_x, train_y)\n",
        "  preds_val = model.predict(val_x)\n",
        "  mae = mean_absolute_error(val_y, preds_val)\n",
        "  return(mae)"
      ],
      "metadata": {
        "id": "LyaAaEfT-Dmj"
      },
      "execution_count": 19,
      "outputs": []
    },
    {
      "cell_type": "code",
      "source": [
        "# compare MAE with differing value of max_leaf_nodes\n",
        "for max_leaf_nodes in [2, 20, 200, 2000]:\n",
        "  my_mae = get_mae(max_leaf_nodes, train_x, val_x, train_y, val_y)\n",
        "  print(\"Max leaf nodes: %d \\t\\t Mean Absolute Error: %d\" %(max_leaf_nodes, my_mae))"
      ],
      "metadata": {
        "colab": {
          "base_uri": "https://localhost:8080/"
        },
        "id": "isZaTfOK-Nnz",
        "outputId": "00cbff5a-986f-4779-efca-f39d1ce711a4"
      },
      "execution_count": 20,
      "outputs": [
        {
          "output_type": "stream",
          "name": "stdout",
          "text": [
            "Max leaf nodes: 2 \t\t Mean Absolute Error: 439583\n",
            "Max leaf nodes: 20 \t\t Mean Absolute Error: 311113\n",
            "Max leaf nodes: 200 \t\t Mean Absolute Error: 270633\n",
            "Max leaf nodes: 2000 \t\t Mean Absolute Error: 268704\n"
          ]
        }
      ]
    },
    {
      "cell_type": "markdown",
      "source": [
        "**random Forest model**"
      ],
      "metadata": {
        "id": "sCPJJPXU-VH5"
      }
    },
    {
      "cell_type": "code",
      "source": [
        "from sklearn.ensemble import RandomForestRegressor\n",
        "from sklearn.metrics import mean_absolute_error\n",
        "\n",
        "forest_model = RandomForestRegressor(random_state=1)\n",
        "forest_model.fit(train_x, train_y)\n",
        "melb_preds = forest_model.predict(val_x)\n",
        "print(mean_absolute_error(val_y, melb_preds))"
      ],
      "metadata": {
        "colab": {
          "base_uri": "https://localhost:8080/"
        },
        "id": "8UofwBit-SLJ",
        "outputId": "4ceb9a04-3d4d-4fc9-f068-88b61059a939"
      },
      "execution_count": 21,
      "outputs": [
        {
          "output_type": "stream",
          "name": "stdout",
          "text": [
            "207190.6873773146\n"
          ]
        }
      ]
    },
    {
      "cell_type": "code",
      "source": [
        "from sklearn.ensemble import RandomForestRegressor\n",
        "from sklearn.metrics import mean_absolute_error\n",
        "\n",
        "forest_model = RandomForestRegressor(random_state=1)\n",
        "forest_model.fit(train_x, train_y)\n",
        "melb_preds = forest_model.predict(val_x)\n",
        "print(mean_absolute_error(val_y, melb_preds))"
      ],
      "metadata": {
        "colab": {
          "base_uri": "https://localhost:8080/"
        },
        "id": "3STgaLvE-aEO",
        "outputId": "30478d43-0a21-4f23-f833-132aa856f5e7"
      },
      "execution_count": 22,
      "outputs": [
        {
          "output_type": "stream",
          "name": "stdout",
          "text": [
            "207190.6873773146\n"
          ]
        }
      ]
    },
    {
      "cell_type": "code",
      "source": [
        "print(\"Making Predictions for the following 10 houses:\")\n",
        "print(x.head(10))\n",
        "print(\"The predictions are\")\n",
        "print(forest_model.predict(x.head(10)))"
      ],
      "metadata": {
        "colab": {
          "base_uri": "https://localhost:8080/"
        },
        "id": "9iTNNQ3z-dEt",
        "outputId": "23230f87-3645-42fc-dc2c-7a60119063ee"
      },
      "execution_count": 23,
      "outputs": [
        {
          "output_type": "stream",
          "name": "stdout",
          "text": [
            "Making Predictions for the following 10 houses:\n",
            "    Rooms  Bathroom  Landsize  Lattitude  Longtitude\n",
            "1       2       1.0     156.0   -37.8079    144.9934\n",
            "2       3       2.0     134.0   -37.8093    144.9944\n",
            "4       4       1.0     120.0   -37.8072    144.9941\n",
            "6       3       2.0     245.0   -37.8024    144.9993\n",
            "7       2       1.0     256.0   -37.8060    144.9954\n",
            "9       2       1.0     220.0   -37.8010    144.9989\n",
            "11      3       2.0     214.0   -37.8085    144.9964\n",
            "12      2       2.0       0.0   -37.8078    144.9965\n",
            "15      2       1.0     238.0   -37.8090    144.9976\n",
            "16      3       2.0     113.0   -37.8056    144.9930\n",
            "The predictions are\n",
            "[1041445.         1175056.66666667 1480450.         1753505.\n",
            " 1207230.         1119550.         1432070.          780220.\n",
            " 1121000.         1185765.        ]\n"
          ]
        }
      ]
    },
    {
      "cell_type": "code",
      "source": [
        "forest_model"
      ],
      "metadata": {
        "colab": {
          "base_uri": "https://localhost:8080/"
        },
        "id": "k2s9luOg-gBd",
        "outputId": "ae22ea9b-dffc-4f3a-da69-fa46432ed860"
      },
      "execution_count": 24,
      "outputs": [
        {
          "output_type": "execute_result",
          "data": {
            "text/plain": [
              "RandomForestRegressor(random_state=1)"
            ]
          },
          "metadata": {},
          "execution_count": 24
        }
      ]
    }
  ]
}